{
 "cells": [
  {
   "cell_type": "code",
   "execution_count": null,
   "metadata": {},
   "outputs": [],
   "source": [
    "import pandas as pd\n",
    "import matplotlib.pyplot as plt\n",
    "import numpy as np\n",
    "import matplotlib.pyplot as plt\n",
    "import matplotlib.colors as mcolors\n",
    "from pathlib import Path"
   ]
  },
  {
   "cell_type": "code",
   "execution_count": null,
   "metadata": {},
   "outputs": [],
   "source": [
    "target_dir = Path(\"../misc/cluster_log/kmeans_edr_4_kmeans++_concat\")\n",
    "\n",
    "df = pd.read_pickle(target_dir.joinpath(\"scaled_by_day8_max40_sample8_day8-12.pkl\"))\n",
    "inertia = pd.read_pickle(target_dir.joinpath(\"model.pkl\")).inertia_"
   ]
  },
  {
   "cell_type": "code",
   "execution_count": null,
   "metadata": {},
   "outputs": [],
   "source": [
    "from clustering import get_concat_df\n",
    "\n",
    "def plot_with_pred(keys, counts, cluster, ncols=3, col_size=4):\n",
    "    nrows = int(np.ceil(len(counts) / ncols))\n",
    "    colors = list(mcolors.TABLEAU_COLORS.values())\n",
    "\n",
    "    fig, axs = plt.subplots(nrows=nrows, ncols=ncols, figsize=(col_size*ncols, 3*nrows))\n",
    "    axs = axs.reshape(-1)\n",
    "    for i, (k, v, c) in enumerate(sorted(zip(keys, counts, cluster))):\n",
    "        ax = axs[i]\n",
    "        ax.stairs(v, label=f\"{k[:10]}({c})\", color=colors[c])\n",
    "        ax.legend()\n",
    "    return fig\n",
    "\n",
    "if \"concat\" in target_dir.name:\n",
    "    target = get_concat_df(df)\n",
    "    target[\"cluster\"] = df[df.day == 8].cluster\n",
    "    fig = plot_with_pred(target.hash_func, target.counts, target.cluster, ncols=2, col_size=7)\n",
    "else:\n",
    "    target = df[df.day == 8]\n",
    "    fig = plot_with_pred(target.hash_func, target.counts, target.cluster)\n",
    "fig.savefig(target_dir.joinpath(f\"{target_dir.name}_{inertia:.3f}.png\"), bbox_inches=\"tight\")"
   ]
  }
 ],
 "metadata": {
  "kernelspec": {
   "display_name": "k8s-ray",
   "language": "python",
   "name": "python3"
  },
  "language_info": {
   "codemirror_mode": {
    "name": "ipython",
    "version": 3
   },
   "file_extension": ".py",
   "mimetype": "text/x-python",
   "name": "python",
   "nbconvert_exporter": "python",
   "pygments_lexer": "ipython3",
   "version": "3.8.15"
  },
  "orig_nbformat": 4,
  "vscode": {
   "interpreter": {
    "hash": "791032b3b1abebe9cd98cfd1a64eed260e0c42a95acc06a92e25bdb2ff748fab"
   }
  }
 },
 "nbformat": 4,
 "nbformat_minor": 2
}
