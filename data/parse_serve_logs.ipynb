{
 "cells": [
  {
   "cell_type": "code",
   "execution_count": null,
   "metadata": {},
   "outputs": [],
   "source": [
    "from pathlib import Path\n",
    "import pandas as pd"
   ]
  },
  {
   "cell_type": "code",
   "execution_count": null,
   "metadata": {},
   "outputs": [],
   "source": [
    "def parse_latencies(target_dir):\n",
    "    post_lats = []\n",
    "    handle_lats = []\n",
    "\n",
    "    proxy_log_path = next(iter(Path(target_dir).glob(\"**/http_proxy_*.log\")))\n",
    "    for line in proxy_log_path.read_text().splitlines():\n",
    "        if \"POST\" in line:\n",
    "            latency = float(line[line.rfind(\" \"):-2])\n",
    "            post_lats.append(latency)\n",
    "    print(len(post_lats))\n",
    "\n",
    "    for replica_log_path in Path(target_dir).glob(\"**/deployment_classifier*.log\"):\n",
    "        for line in replica_log_path.read_text().splitlines():\n",
    "            if \"HANDLE\" in line:\n",
    "                latency = float(line[line.rfind(\" \"):-2])\n",
    "                handle_lats.append(latency)\n",
    "    print(len(handle_lats))\n",
    "    return pd.DataFrame({\"post\": post_lats, \"handle\": handle_lats})"
   ]
  },
  {
   "cell_type": "code",
   "execution_count": null,
   "metadata": {},
   "outputs": [],
   "source": [
    "target_dir = Path(\"/tmp/ray/session_latest/logs/serve\")\n",
    "df = parse_latencies(target_dir)"
   ]
  },
  {
   "cell_type": "code",
   "execution_count": null,
   "metadata": {},
   "outputs": [],
   "source": [
    "print(\"p90\", df.post.quantile(0.9))\n",
    "print(\"average\", df.post.mean())\n",
    "print(\"median\", df.post.median())\n",
    "df.post.hist()"
   ]
  },
  {
   "cell_type": "code",
   "execution_count": null,
   "metadata": {},
   "outputs": [],
   "source": [
    "print(\"p90\", df.handle.quantile(0.9))\n",
    "print(\"average\", df.handle.mean())\n",
    "print(\"median\", df.handle.median())\n",
    "df.handle.hist()"
   ]
  },
  {
   "cell_type": "code",
   "execution_count": null,
   "metadata": {},
   "outputs": [],
   "source": [
    "overhead = df.post - df.handle\n",
    "print(\"p90\", overhead.quantile(0.9))\n",
    "print(\"average\", overhead.mean())\n",
    "print(\"median\", overhead.median())\n",
    "print(overhead.hist())"
   ]
  }
 ],
 "metadata": {
  "kernelspec": {
   "display_name": "k8s-ray",
   "language": "python",
   "name": "python3"
  },
  "language_info": {
   "codemirror_mode": {
    "name": "ipython",
    "version": 3
   },
   "file_extension": ".py",
   "mimetype": "text/x-python",
   "name": "python",
   "nbconvert_exporter": "python",
   "pygments_lexer": "ipython3",
   "version": "3.8.15"
  },
  "orig_nbformat": 4,
  "vscode": {
   "interpreter": {
    "hash": "791032b3b1abebe9cd98cfd1a64eed260e0c42a95acc06a92e25bdb2ff748fab"
   }
  }
 },
 "nbformat": 4,
 "nbformat_minor": 2
}
