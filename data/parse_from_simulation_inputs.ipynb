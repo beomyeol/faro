{
 "cells": [
  {
   "cell_type": "code",
   "execution_count": null,
   "metadata": {},
   "outputs": [],
   "source": [
    "from pathlib import Path\n",
    "import json\n",
    "from collections import defaultdict"
   ]
  },
  {
   "cell_type": "code",
   "execution_count": null,
   "metadata": {},
   "outputs": [],
   "source": [
    "sim_input_path = Path(\"/home/beomyeol/Workspace/ibm/k8s-ray-py/misc/config/twitter/input.json\")"
   ]
  },
  {
   "cell_type": "code",
   "execution_count": null,
   "metadata": {},
   "outputs": [],
   "source": [
    "mapping = defaultdict(dict)\n",
    "\n",
    "mapping[\"cluster1\"][\"classifier\"] = \"http://localhost:8000/classifier\""
   ]
  },
  {
   "cell_type": "code",
   "execution_count": null,
   "metadata": {},
   "outputs": [],
   "source": [
    "out_lines = []\n",
    "\n",
    "for line in sim_input_path.read_text().splitlines():\n",
    "    obj = json.loads(line)\n",
    "    urls = {}\n",
    "    for cluster_name, deps in obj[\"counts\"].items():\n",
    "        for dep_name, c in deps.items():\n",
    "            url = mapping[cluster_name].get(dep_name, None)\n",
    "            if url is not None:\n",
    "                urls[url] = c\n",
    "\n",
    "    new_obj = {\n",
    "        \"ts\": obj[\"ts\"],\n",
    "        \"urls\": urls,\n",
    "    }\n",
    "    out_lines.append(json.dumps(new_obj))"
   ]
  },
  {
   "cell_type": "code",
   "execution_count": null,
   "metadata": {},
   "outputs": [],
   "source": [
    "sim_input_path.with_name(\"real_input.json\").write_text(\"\\n\".join(out_lines))"
   ]
  }
 ],
 "metadata": {
  "kernelspec": {
   "display_name": "Python 3.8.13 ('k8s-ray')",
   "language": "python",
   "name": "python3"
  },
  "language_info": {
   "codemirror_mode": {
    "name": "ipython",
    "version": 3
   },
   "file_extension": ".py",
   "mimetype": "text/x-python",
   "name": "python",
   "nbconvert_exporter": "python",
   "pygments_lexer": "ipython3",
   "version": "3.8.13 (default, Mar 28 2022, 11:38:47) \n[GCC 7.5.0]"
  },
  "orig_nbformat": 4,
  "vscode": {
   "interpreter": {
    "hash": "1b6112f787fdd3c348a2e59cdd2a8ba3bb796b40f16e859026f848dda1947157"
   }
  }
 },
 "nbformat": 4,
 "nbformat_minor": 2
}
