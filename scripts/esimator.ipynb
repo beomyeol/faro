{
 "cells": [
  {
   "cell_type": "code",
   "execution_count": 1,
   "metadata": {},
   "outputs": [
    {
     "ename": "FileNotFoundError",
     "evalue": "[Errno 2] No such file or directory: '/home/beomyeol/Workspace/ibm/faro/results/faro-us-south/resnet34/top9_twitter_1_2000_avgproc_min_int5m_reduced_6hr_augmented/36_cpus/faro_sum/metrics_with_worker.pkl.gz'",
     "output_type": "error",
     "traceback": [
      "\u001b[0;31m---------------------------------------------------------------------------\u001b[0m",
      "\u001b[0;31mFileNotFoundError\u001b[0m                         Traceback (most recent call last)",
      "\u001b[1;32m/home/beomyeol/Workspace/ibm/faro/scripts/esimator.ipynb Cell 1\u001b[0m in \u001b[0;36m5\n\u001b[1;32m      <a href='vscode-notebook-cell://ssh-remote%2Bcassini.cs.illinois.edu/home/beomyeol/Workspace/ibm/faro/scripts/esimator.ipynb#W0sdnNjb2RlLXJlbW90ZQ%3D%3D?line=1'>2</a>\u001b[0m \u001b[39mfrom\u001b[39;00m \u001b[39mpathlib\u001b[39;00m \u001b[39mimport\u001b[39;00m Path\n\u001b[1;32m      <a href='vscode-notebook-cell://ssh-remote%2Bcassini.cs.illinois.edu/home/beomyeol/Workspace/ibm/faro/scripts/esimator.ipynb#W0sdnNjb2RlLXJlbW90ZQ%3D%3D?line=3'>4</a>\u001b[0m \u001b[39m# df = pd.read_pickle(\"/home/beomyeol/Workspace/ibm/faro/results/faro-us-south/resnet34/top9_twitter_1_1600_avgproc_min_int5m_reduced_6hr_augmented/44_cpus/faro_sum_old_model/metrics_with_worker.pkl.gz\")\u001b[39;00m\n\u001b[0;32m----> <a href='vscode-notebook-cell://ssh-remote%2Bcassini.cs.illinois.edu/home/beomyeol/Workspace/ibm/faro/scripts/esimator.ipynb#W0sdnNjb2RlLXJlbW90ZQ%3D%3D?line=4'>5</a>\u001b[0m df \u001b[39m=\u001b[39m pd\u001b[39m.\u001b[39;49mread_pickle(\u001b[39m\"\u001b[39;49m\u001b[39m/home/beomyeol/Workspace/ibm/faro/results/faro-us-south/resnet34/top9_twitter_1_2000_avgproc_min_int5m_reduced_6hr_augmented/36_cpus/faro_sum/metrics_with_worker.pkl.gz\u001b[39;49m\u001b[39m\"\u001b[39;49m)\n",
      "File \u001b[0;32m~/anaconda3/envs/k8s-ray/lib/python3.8/site-packages/pandas/io/pickle.py:187\u001b[0m, in \u001b[0;36mread_pickle\u001b[0;34m(filepath_or_buffer, compression, storage_options)\u001b[0m\n\u001b[1;32m    124\u001b[0m \u001b[39m\"\"\"\u001b[39;00m\n\u001b[1;32m    125\u001b[0m \u001b[39mLoad pickled pandas object (or any object) from file.\u001b[39;00m\n\u001b[1;32m    126\u001b[0m \n\u001b[0;32m   (...)\u001b[0m\n\u001b[1;32m    184\u001b[0m \u001b[39m4    4    9\u001b[39;00m\n\u001b[1;32m    185\u001b[0m \u001b[39m\"\"\"\u001b[39;00m  \u001b[39m# noqa: E501\u001b[39;00m\n\u001b[1;32m    186\u001b[0m excs_to_catch \u001b[39m=\u001b[39m (\u001b[39mAttributeError\u001b[39;00m, \u001b[39mImportError\u001b[39;00m, \u001b[39mModuleNotFoundError\u001b[39;00m, \u001b[39mTypeError\u001b[39;00m)\n\u001b[0;32m--> 187\u001b[0m \u001b[39mwith\u001b[39;00m get_handle(\n\u001b[1;32m    188\u001b[0m     filepath_or_buffer,\n\u001b[1;32m    189\u001b[0m     \u001b[39m\"\u001b[39;49m\u001b[39mrb\u001b[39;49m\u001b[39m\"\u001b[39;49m,\n\u001b[1;32m    190\u001b[0m     compression\u001b[39m=\u001b[39;49mcompression,\n\u001b[1;32m    191\u001b[0m     is_text\u001b[39m=\u001b[39;49m\u001b[39mFalse\u001b[39;49;00m,\n\u001b[1;32m    192\u001b[0m     storage_options\u001b[39m=\u001b[39;49mstorage_options,\n\u001b[1;32m    193\u001b[0m ) \u001b[39mas\u001b[39;00m handles:\n\u001b[1;32m    194\u001b[0m \n\u001b[1;32m    195\u001b[0m     \u001b[39m# 1) try standard library Pickle\u001b[39;00m\n\u001b[1;32m    196\u001b[0m     \u001b[39m# 2) try pickle_compat (older pandas version) to handle subclass changes\u001b[39;00m\n\u001b[1;32m    197\u001b[0m     \u001b[39m# 3) try pickle_compat with latin-1 encoding upon a UnicodeDecodeError\u001b[39;00m\n\u001b[1;32m    199\u001b[0m     \u001b[39mtry\u001b[39;00m:\n\u001b[1;32m    200\u001b[0m         \u001b[39m# TypeError for Cython complaints about object.__new__ vs Tick.__new__\u001b[39;00m\n\u001b[1;32m    201\u001b[0m         \u001b[39mtry\u001b[39;00m:\n",
      "File \u001b[0;32m~/anaconda3/envs/k8s-ray/lib/python3.8/site-packages/pandas/io/common.py:714\u001b[0m, in \u001b[0;36mget_handle\u001b[0;34m(path_or_buf, mode, encoding, compression, memory_map, is_text, errors, storage_options)\u001b[0m\n\u001b[1;32m    711\u001b[0m     \u001b[39massert\u001b[39;00m \u001b[39misinstance\u001b[39m(handle, \u001b[39mstr\u001b[39m)\n\u001b[1;32m    712\u001b[0m     \u001b[39m# error: Incompatible types in assignment (expression has type\u001b[39;00m\n\u001b[1;32m    713\u001b[0m     \u001b[39m# \"GzipFile\", variable has type \"Union[str, BaseBuffer]\")\u001b[39;00m\n\u001b[0;32m--> 714\u001b[0m     handle \u001b[39m=\u001b[39m gzip\u001b[39m.\u001b[39;49mGzipFile(  \u001b[39m# type: ignore[assignment]\u001b[39;49;00m\n\u001b[1;32m    715\u001b[0m         filename\u001b[39m=\u001b[39;49mhandle,\n\u001b[1;32m    716\u001b[0m         mode\u001b[39m=\u001b[39;49mioargs\u001b[39m.\u001b[39;49mmode,\n\u001b[1;32m    717\u001b[0m         \u001b[39m*\u001b[39;49m\u001b[39m*\u001b[39;49mcompression_args,\n\u001b[1;32m    718\u001b[0m     )\n\u001b[1;32m    719\u001b[0m \u001b[39melse\u001b[39;00m:\n\u001b[1;32m    720\u001b[0m     handle \u001b[39m=\u001b[39m gzip\u001b[39m.\u001b[39mGzipFile(\n\u001b[1;32m    721\u001b[0m         \u001b[39m# No overload variant of \"GzipFile\" matches argument types\u001b[39;00m\n\u001b[1;32m    722\u001b[0m         \u001b[39m# \"Union[str, BaseBuffer]\", \"str\", \"Dict[str, Any]\"\u001b[39;00m\n\u001b[0;32m   (...)\u001b[0m\n\u001b[1;32m    725\u001b[0m         \u001b[39m*\u001b[39m\u001b[39m*\u001b[39mcompression_args,\n\u001b[1;32m    726\u001b[0m     )\n",
      "File \u001b[0;32m~/anaconda3/envs/k8s-ray/lib/python3.8/gzip.py:173\u001b[0m, in \u001b[0;36mGzipFile.__init__\u001b[0;34m(self, filename, mode, compresslevel, fileobj, mtime)\u001b[0m\n\u001b[1;32m    171\u001b[0m     mode \u001b[39m+\u001b[39m\u001b[39m=\u001b[39m \u001b[39m'\u001b[39m\u001b[39mb\u001b[39m\u001b[39m'\u001b[39m\n\u001b[1;32m    172\u001b[0m \u001b[39mif\u001b[39;00m fileobj \u001b[39mis\u001b[39;00m \u001b[39mNone\u001b[39;00m:\n\u001b[0;32m--> 173\u001b[0m     fileobj \u001b[39m=\u001b[39m \u001b[39mself\u001b[39m\u001b[39m.\u001b[39mmyfileobj \u001b[39m=\u001b[39m builtins\u001b[39m.\u001b[39;49mopen(filename, mode \u001b[39mor\u001b[39;49;00m \u001b[39m'\u001b[39;49m\u001b[39mrb\u001b[39;49m\u001b[39m'\u001b[39;49m)\n\u001b[1;32m    174\u001b[0m \u001b[39mif\u001b[39;00m filename \u001b[39mis\u001b[39;00m \u001b[39mNone\u001b[39;00m:\n\u001b[1;32m    175\u001b[0m     filename \u001b[39m=\u001b[39m \u001b[39mgetattr\u001b[39m(fileobj, \u001b[39m'\u001b[39m\u001b[39mname\u001b[39m\u001b[39m'\u001b[39m, \u001b[39m'\u001b[39m\u001b[39m'\u001b[39m)\n",
      "\u001b[0;31mFileNotFoundError\u001b[0m: [Errno 2] No such file or directory: '/home/beomyeol/Workspace/ibm/faro/results/faro-us-south/resnet34/top9_twitter_1_2000_avgproc_min_int5m_reduced_6hr_augmented/36_cpus/faro_sum/metrics_with_worker.pkl.gz'"
     ]
    }
   ],
   "source": [
    "import pandas as pd\n",
    "from pathlib import Path\n",
    "\n",
    "# df = pd.read_pickle(\"/home/beomyeol/Workspace/ibm/faro/results/faro-us-south/resnet34/top9_twitter_1_1600_avgproc_min_int5m_reduced_6hr_augmented/44_cpus/faro_sum_old_model/metrics_with_worker.pkl.gz\")\n",
    "df = pd.read_pickle(\"/home/beomyeol/Workspace/ibm/faro/results/faro-us-south/resnet34/top9_twitter_1_2000_avgproc_min_int5m_reduced_6hr_augmented/36_cpus/faro_sum/metrics_with_worker.pkl.gz\")\n",
    "# df = pd.read_pickle(\"/home/beomyeol/Workspace/ibm/faro/results/faro-us-south/profiles/resnet34/serve_out.pkl\")"
   ]
  },
  {
   "cell_type": "code",
   "execution_count": 10,
   "metadata": {},
   "outputs": [
    {
     "name": "stdout",
     "output_type": "stream",
     "text": [
      "2236\n"
     ]
    },
    {
     "data": {
      "text/html": [
       "<div>\n",
       "<style scoped>\n",
       "    .dataframe tbody tr th:only-of-type {\n",
       "        vertical-align: middle;\n",
       "    }\n",
       "\n",
       "    .dataframe tbody tr th {\n",
       "        vertical-align: top;\n",
       "    }\n",
       "\n",
       "    .dataframe thead th {\n",
       "        text-align: right;\n",
       "    }\n",
       "</style>\n",
       "<table border=\"1\" class=\"dataframe\">\n",
       "  <thead>\n",
       "    <tr style=\"text-align: right;\">\n",
       "      <th></th>\n",
       "      <th>cluster</th>\n",
       "      <th>method</th>\n",
       "      <th>status</th>\n",
       "      <th>latency_ms</th>\n",
       "    </tr>\n",
       "  </thead>\n",
       "  <tbody>\n",
       "    <tr>\n",
       "      <th>2236</th>\n",
       "      <td>worker-wpv6q</td>\n",
       "      <td>HANDLE</td>\n",
       "      <td>OK</td>\n",
       "      <td>147.4</td>\n",
       "    </tr>\n",
       "    <tr>\n",
       "      <th>2237</th>\n",
       "      <td>worker-wpv6q</td>\n",
       "      <td>HANDLE</td>\n",
       "      <td>OK</td>\n",
       "      <td>152.1</td>\n",
       "    </tr>\n",
       "    <tr>\n",
       "      <th>2238</th>\n",
       "      <td>worker-wpv6q</td>\n",
       "      <td>HANDLE</td>\n",
       "      <td>OK</td>\n",
       "      <td>113.4</td>\n",
       "    </tr>\n",
       "    <tr>\n",
       "      <th>2239</th>\n",
       "      <td>worker-wpv6q</td>\n",
       "      <td>HANDLE</td>\n",
       "      <td>OK</td>\n",
       "      <td>112.1</td>\n",
       "    </tr>\n",
       "    <tr>\n",
       "      <th>2240</th>\n",
       "      <td>worker-wpv6q</td>\n",
       "      <td>HANDLE</td>\n",
       "      <td>OK</td>\n",
       "      <td>109.9</td>\n",
       "    </tr>\n",
       "    <tr>\n",
       "      <th>...</th>\n",
       "      <td>...</td>\n",
       "      <td>...</td>\n",
       "      <td>...</td>\n",
       "      <td>...</td>\n",
       "    </tr>\n",
       "    <tr>\n",
       "      <th>4467</th>\n",
       "      <td>worker-wpv6q</td>\n",
       "      <td>HANDLE</td>\n",
       "      <td>OK</td>\n",
       "      <td>105.2</td>\n",
       "    </tr>\n",
       "    <tr>\n",
       "      <th>4468</th>\n",
       "      <td>worker-wpv6q</td>\n",
       "      <td>HANDLE</td>\n",
       "      <td>OK</td>\n",
       "      <td>114.4</td>\n",
       "    </tr>\n",
       "    <tr>\n",
       "      <th>4469</th>\n",
       "      <td>worker-wpv6q</td>\n",
       "      <td>HANDLE</td>\n",
       "      <td>OK</td>\n",
       "      <td>107.2</td>\n",
       "    </tr>\n",
       "    <tr>\n",
       "      <th>4470</th>\n",
       "      <td>worker-wpv6q</td>\n",
       "      <td>HANDLE</td>\n",
       "      <td>OK</td>\n",
       "      <td>111.1</td>\n",
       "    </tr>\n",
       "    <tr>\n",
       "      <th>4471</th>\n",
       "      <td>worker-wpv6q</td>\n",
       "      <td>HANDLE</td>\n",
       "      <td>OK</td>\n",
       "      <td>106.1</td>\n",
       "    </tr>\n",
       "  </tbody>\n",
       "</table>\n",
       "<p>2236 rows × 4 columns</p>\n",
       "</div>"
      ],
      "text/plain": [
       "           cluster  method status  latency_ms\n",
       "2236  worker-wpv6q  HANDLE     OK       147.4\n",
       "2237  worker-wpv6q  HANDLE     OK       152.1\n",
       "2238  worker-wpv6q  HANDLE     OK       113.4\n",
       "2239  worker-wpv6q  HANDLE     OK       112.1\n",
       "2240  worker-wpv6q  HANDLE     OK       109.9\n",
       "...            ...     ...    ...         ...\n",
       "4467  worker-wpv6q  HANDLE     OK       105.2\n",
       "4468  worker-wpv6q  HANDLE     OK       114.4\n",
       "4469  worker-wpv6q  HANDLE     OK       107.2\n",
       "4470  worker-wpv6q  HANDLE     OK       111.1\n",
       "4471  worker-wpv6q  HANDLE     OK       106.1\n",
       "\n",
       "[2236 rows x 4 columns]"
      ]
     },
     "execution_count": 10,
     "metadata": {},
     "output_type": "execute_result"
    }
   ],
   "source": [
    "handle_df = df[(df.method == \"HANDLE\") & (df.status == \"OK\")]\n",
    "print(len(handle_df))\n",
    "handle_df"
   ]
  },
  {
   "cell_type": "code",
   "execution_count": 11,
   "metadata": {},
   "outputs": [
    {
     "data": {
      "text/plain": [
       "117.4"
      ]
     },
     "execution_count": 11,
     "metadata": {},
     "output_type": "execute_result"
    }
   ],
   "source": [
    "df[(df.method == \"POST\") & (df.status == \"200\")].latency_ms.median()"
   ]
  },
  {
   "cell_type": "code",
   "execution_count": 12,
   "metadata": {},
   "outputs": [
    {
     "name": "stdout",
     "output_type": "stream",
     "text": [
      "(0.3664533843565315, 0.09083723064472476, 0.017676509236062347)\n"
     ]
    }
   ],
   "source": [
    "import scipy.stats\n",
    "import numpy as np\n",
    "import matplotlib.pyplot as plt\n",
    "import sys\n",
    "sys.path.append(\"../src\")\n",
    "import simulation.distribution as dist\n",
    "\n",
    "values = handle_df.latency_ms.values / 1000\n",
    "params = scipy.stats.lognorm.fit(values)\n",
    "print(params)\n",
    "\n",
    "# plt.hist(values, label=\"original\", histtype=\"step\", density=True)\n",
    "# generated = scipy.stats.lognorm(params[0], loc=params[1], scale=params[2]).rvs(len(values)*30)\n",
    "# plt.hist(generated, label=\"generated\", histtype=\"step\", density=True)\n",
    "# lognorm = dist.LogNormDistribution(*params)\n",
    "# dist_generated = [lognorm.draw() for _ in range(len(values)*20)]\n",
    "# plt.hist(dist_generated, label=\"dist_generated\", histtype=\"step\", density=True)\n",
    "\n",
    "# plt.legend()"
   ]
  },
  {
   "cell_type": "code",
   "execution_count": 13,
   "metadata": {},
   "outputs": [
    {
     "name": "stdout",
     "output_type": "stream",
     "text": [
      "0.125025\n",
      "0.10976131484794276\n"
     ]
    }
   ],
   "source": [
    "# print(np.percentile(generated, 95))\n",
    "# print(np.percentile(dist_generated, 95))\n",
    "print(np.percentile(values, 95))\n",
    "print(np.mean(values))"
   ]
  },
  {
   "cell_type": "code",
   "execution_count": 6,
   "metadata": {},
   "outputs": [
    {
     "name": "stdout",
     "output_type": "stream",
     "text": [
      "/home/beomyeol/Workspace/ibm/faro/results/faro-us-south/resnet34/top9_twitter_1_1600_avgproc_min_int5m_reduced_6hr_augmented/32_cpus/aiad/metrics_with_worker.pkl.gz\n",
      "/home/beomyeol/Workspace/ibm/faro/results/faro-us-south/resnet34/top9_twitter_1_1600_avgproc_min_int5m_reduced_6hr_augmented/32_cpus/mark_diff_order/metrics_with_worker.pkl.gz\n",
      "/home/beomyeol/Workspace/ibm/faro/results/faro-us-south/resnet34/top9_twitter_1_1600_avgproc_min_int5m_reduced_6hr_augmented/32_cpus/faro_sum/metrics_with_worker.pkl.gz\n",
      "/home/beomyeol/Workspace/ibm/faro/results/faro-us-south/resnet34/top9_twitter_1_1600_avgproc_min_int5m_reduced_6hr_augmented/40_cpus/aiad/metrics_with_worker.pkl.gz\n",
      "/home/beomyeol/Workspace/ibm/faro/results/faro-us-south/resnet34/top9_twitter_1_1600_avgproc_min_int5m_reduced_6hr_augmented/40_cpus/oneshot/metrics_with_worker.pkl.gz\n",
      "/home/beomyeol/Workspace/ibm/faro/results/faro-us-south/resnet34/top9_twitter_1_1600_avgproc_min_int5m_reduced_6hr_augmented/36_cpus/aiad/metrics_with_worker.pkl.gz\n",
      "/home/beomyeol/Workspace/ibm/faro/results/faro-us-south/resnet34/top9_twitter_1_1600_avgproc_min_int5m_reduced_6hr_augmented/36_cpus/mark_diff_order/metrics_with_worker.pkl.gz\n",
      "/home/beomyeol/Workspace/ibm/faro/results/faro-us-south/resnet34/top9_twitter_1_1600_avgproc_min_int5m_reduced_6hr_augmented/36_cpus/faro_sum/metrics_with_worker.pkl.gz\n",
      "/home/beomyeol/Workspace/ibm/faro/results/faro-us-south/resnet34/top9_twitter_1_1600_avgproc_min_int5m_reduced_6hr_augmented/44_cpus/aiad/metrics_with_worker.pkl.gz\n",
      "/home/beomyeol/Workspace/ibm/faro/results/faro-us-south/resnet34/top9_twitter_1_1600_avgproc_min_int5m_reduced_6hr_augmented/44_cpus/faro_sum_old_model/metrics_with_worker.pkl.gz\n"
     ]
    },
    {
     "data": {
      "text/plain": [
       "165.33158830318843"
      ]
     },
     "execution_count": 6,
     "metadata": {},
     "output_type": "execute_result"
    }
   ],
   "source": [
    "dir_path = Path(\"/home/beomyeol/Workspace/ibm/faro/results/faro-us-south/resnet34/top9_twitter_1_1600_avgproc_min_int5m_reduced_6hr_augmented\")\n",
    "\n",
    "handles_df = []\n",
    "\n",
    "for i, p in enumerate(dir_path.glob(\"**/metrics_with_worker.pkl.gz\")):\n",
    "    print(p)\n",
    "    df = pd.read_pickle(p)\n",
    "    handle_df = df[((df.method == \"HANDLE\") & (df.status == \"OK\"))]\n",
    "    handles_df.append(handle_df)\n",
    "\n",
    "handles_df = pd.concat(handles_df)\n",
    "\n",
    "handles_df.latency_ms.mean()"
   ]
  },
  {
   "cell_type": "code",
   "execution_count": 7,
   "metadata": {},
   "outputs": [
    {
     "name": "stdout",
     "output_type": "stream",
     "text": [
      "(0.3602186151645037, 0.07286179915989166, 0.0866923686839878)\n",
      "0.1603\n",
      "0.2298\n",
      "0.1653315883031811\n"
     ]
    },
    {
     "data": {
      "text/plain": [
       "<matplotlib.legend.Legend at 0x7fa6efe52b80>"
      ]
     },
     "execution_count": 7,
     "metadata": {},
     "output_type": "execute_result"
    },
    {
     "data": {
      "image/png": "[encoded data removed]",
      "text/plain": [
       "<Figure size 640x480 with 1 Axes>"
      ]
     },
     "metadata": {},
     "output_type": "display_data"
    }
   ],
   "source": [
    "values = handles_df.latency_ms.values / 1000\n",
    "params = scipy.stats.lognorm.fit(values)\n",
    "print(params)\n",
    "\n",
    "print(np.percentile(values, 50))\n",
    "print(np.percentile(values, 95))\n",
    "print(np.mean(values))\n",
    "\n",
    "plt.hist(values, label=\"original\", histtype=\"step\", density=True)\n",
    "generated = scipy.stats.lognorm(params[0], loc=params[1], scale=params[2]).rvs(len(values)*30)\n",
    "plt.hist(generated, label=\"generated\", histtype=\"step\", density=True)\n",
    "lognorm = dist.LogNormDistribution(*params)\n",
    "dist_generated = [lognorm.draw() for _ in range(len(values)*20)]\n",
    "plt.hist(dist_generated, label=\"dist_generated\", histtype=\"step\", density=True)\n",
    "\n",
    "plt.legend()"
   ]
  },
  {
   "cell_type": "code",
   "execution_count": 18,
   "metadata": {},
   "outputs": [
    {
     "name": "stdout",
     "output_type": "stream",
     "text": [
      "(0.4807840738997673, 0.003485330525882586, 0.000987812095765591)\n",
      "0.0045\n",
      "0.004641167262969603\n"
     ]
    },
    {
     "data": {
      "text/plain": [
       "<matplotlib.legend.Legend at 0x7fa6d01521c0>"
      ]
     },
     "execution_count": 18,
     "metadata": {},
     "output_type": "execute_result"
    },
    {
     "data": {
      "image/png": "[encoded data removed]",
      "text/plain": [
       "<Figure size 640x480 with 1 Axes>"
      ]
     },
     "metadata": {},
     "output_type": "display_data"
    }
   ],
   "source": [
    "post_df = df[df.method == \"POST\"]\n",
    "success_post_df = post_df[post_df.status == \"200\"]\n",
    "success_handle_df = handle_df[handle_df.status == \"OK\"]\n",
    "\n",
    "overheads = (\n",
    "    success_post_df.latency_ms.reset_index(drop=True) -\n",
    "    success_handle_df.latency_ms.reset_index(drop=True))\n",
    "\n",
    "values = overheads / 1000 / 2\n",
    "# values *= 1.5  # let's overestimate\n",
    "params = scipy.stats.lognorm.fit(values)\n",
    "print(params)\n",
    "print(np.percentile(values, 50))\n",
    "print(np.mean(values))\n",
    "\n",
    "plt.hist(values, label=\"original\", histtype=\"step\", density=True)\n",
    "generated = scipy.stats.lognorm(params[0], loc=params[1], scale=params[2]).rvs(len(values)*30)\n",
    "plt.hist(generated, label=\"generated\", histtype=\"step\", density=True)\n",
    "\n",
    "plt.legend()"
   ]
  }
 ],
 "metadata": {
  "kernelspec": {
   "display_name": "k8s-ray",
   "language": "python",
   "name": "python3"
  },
  "language_info": {
   "codemirror_mode": {
    "name": "ipython",
    "version": 3
   },
   "file_extension": ".py",
   "mimetype": "text/x-python",
   "name": "python",
   "nbconvert_exporter": "python",
   "pygments_lexer": "ipython3",
   "version": "3.8.13"
  },
  "orig_nbformat": 4,
  "vscode": {
   "interpreter": {
    "hash": "791032b3b1abebe9cd98cfd1a64eed260e0c42a95acc06a92e25bdb2ff748fab"
   }
  }
 },
 "nbformat": 4,
 "nbformat_minor": 2
}
