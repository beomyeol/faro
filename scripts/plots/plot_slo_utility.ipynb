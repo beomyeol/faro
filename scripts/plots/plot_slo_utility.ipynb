{
 "cells": [
  {
   "cell_type": "code",
   "execution_count": null,
   "metadata": {},
   "outputs": [],
   "source": [
    "from pathlib import Path\n",
    "import pandas as pd\n",
    "import numpy as np\n",
    "import sys\n",
    "sys.path.append(\"../..\")\n",
    "from data import utils\n",
    "from src.configuration import load_config\n",
    "import matplotlib.pyplot as plt"
   ]
  },
  {
   "cell_type": "code",
   "execution_count": null,
   "metadata": {},
   "outputs": [],
   "source": [
    "dir_path = Path(\"/home/beomyeol/Workspace/ibm/faro/results/faro-us-south/resnet34/top9_twitter_1_1600_avgproc_min_int5m_reduced_6hr_augmented/32_cpus/aiad\")\n",
    "metric_path = dir_path / \"metrics.pkl.gz\"\n",
    "df = pd.read_pickle(metric_path)\n",
    "config_path = dir_path / \"config.yaml\"\n",
    "config = load_config(config_path)"
   ]
  },
  {
   "cell_type": "code",
   "execution_count": null,
   "metadata": {},
   "outputs": [],
   "source": [
    "if \"autoscale_config\" in config:\n",
    "    target_metric = config[\"autoscale_config\"][\"target_metric\"]\n",
    "else:\n",
    "    target_metric = config[\"policies\"][0][\"autoscale_config\"][\"target_metric\"]\n",
    "print(target_metric)"
   ]
  },
  {
   "cell_type": "code",
   "execution_count": null,
   "metadata": {},
   "outputs": [],
   "source": [
    "df.succeeded.value_counts()"
   ]
  },
  {
   "cell_type": "code",
   "execution_count": null,
   "metadata": {},
   "outputs": [],
   "source": [
    "df[\"utility\"] = (target_metric / df.latency_ms).clip(lower=None, upper=1.0)\n",
    "df.loc[~df[\"succeeded\"], \"utility\"] = 0\n",
    "df[\"slo\"] = ((df.latency_ms <= target_metric) & df.succeeded)"
   ]
  },
  {
   "cell_type": "code",
   "execution_count": null,
   "metadata": {},
   "outputs": [],
   "source": [
    "(df.utility == 0).value_counts()"
   ]
  },
  {
   "cell_type": "code",
   "execution_count": null,
   "metadata": {},
   "outputs": [],
   "source": [
    "df.utility.hist()"
   ]
  },
  {
   "cell_type": "code",
   "execution_count": null,
   "metadata": {},
   "outputs": [],
   "source": [
    "avg_utils = utils.calculate_aggregate(df.utility, df.arrival_ts, 60)\n",
    "slo_rates = utils.calculate_aggregate(df.slo, df.arrival_ts, 60)\n",
    "pd.Series(avg_utils).plot(label=\"utility\")\n",
    "pd.Series(slo_rates).plot(label=\"slo rate\")\n",
    "plt.legend()"
   ]
  },
  {
   "cell_type": "code",
   "execution_count": null,
   "metadata": {},
   "outputs": [],
   "source": [
    "# correlation plot\n",
    "import seaborn as sns\n",
    "import scipy\n",
    "import matplotlib\n",
    "\n",
    "matplotlib.rcParams.update({'font.size': 13})\n",
    "\n",
    "x = \"slo_rate\"\n",
    "y = \"avg_utility\"\n",
    "\n",
    "def annotate(data, **kws):\n",
    "    r, p = scipy.stats.pearsonr(data[x], data[y])\n",
    "    ax = plt.gca()\n",
    "    ax.text(.05, .8, 'r={:.2f}, p={:.2g}'.format(r, p),\n",
    "            transform=ax.transAxes)\n",
    "\n",
    "slo_rate_utility_df = pd.DataFrame({\n",
    "    x: slo_rates,\n",
    "    y: avg_utils,\n",
    "})\n",
    "# print(len(slo_rate_utility_df))\n",
    "# slo_rate_utility_df[x] #/= 100\n",
    "# a, b = np.polyfit(slo_rate_utility_df[x], slo_rate_utility_df[y], deg=1)\n",
    "# print(a, b)\n",
    "\n",
    "# sns.scatterplot(x=x, y=y, data=slo_rate_utility_df)\n",
    "# g = sns.lmplot(x=x, y=y, data=slo_rate_utility_df)\n",
    "# g.map_dataframe(annotate)\n",
    "\n",
    "ax = slo_rate_utility_df.plot.scatter(x=x, y=y)\n",
    "x = np.linspace(0, 1, 10)\n",
    "# ax.plot(x, a * x + b, color=\"k\")\n",
    "ax.plot(x, x, color=\"r\")\n",
    "# ax.text(0.05, 0.9, f\"r={slo_rate_utility_df.corr().iloc[1, 0]:.2f}\")\n",
    "ax.set_xlabel(\"SLO satisfaction rate\")\n",
    "# ax.set_ylabel(\"Average Utility\")\n",
    "ax.set_ylabel(\"Utility\")\n",
    "plt.savefig(\"images/correlation.eps\", bbox_inches=\"tight\")"
   ]
  }
 ],
 "metadata": {
  "kernelspec": {
   "display_name": "k8s-ray",
   "language": "python",
   "name": "python3"
  },
  "language_info": {
   "codemirror_mode": {
    "name": "ipython",
    "version": 3
   },
   "file_extension": ".py",
   "mimetype": "text/x-python",
   "name": "python",
   "nbconvert_exporter": "python",
   "pygments_lexer": "ipython3",
   "version": "3.8.13"
  },
  "orig_nbformat": 4
 },
 "nbformat": 4,
 "nbformat_minor": 2
}
