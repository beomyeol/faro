{
 "cells": [
  {
   "cell_type": "code",
   "execution_count": 1,
   "metadata": {},
   "outputs": [],
   "source": [
    "import logging\n",
    "import sys\n",
    "sys.path.append(\"../../src\")\n",
    "from solver import SolverWithDrop, _OPT_OPTIONS\n",
    "import numpy as np\n",
    "\n",
    "format = '%(filename)s:%(lineno)d [%(levelname)s] %(message)s'\n",
    "logging.basicConfig(\n",
    "    level=logging.getLevelName(logging.INFO), format=format)"
   ]
  },
  {
   "cell_type": "code",
   "execution_count": 2,
   "metadata": {},
   "outputs": [],
   "source": [
    "_OPT_OPTIONS[\"cobyla\"] = {'rhobeg': 2.0}\n",
    "_OPT_OPTIONS[\"slsqp\"] = {'eps': 2.0}\n",
    "\n",
    "processing_time = 180\n",
    "target_latency = 180 * 4\n",
    "\n",
    "input_rates = np.array([\n",
    "    [843, 862,  883,  960, 917, 908, 1058],\n",
    "    [709, 637,  607,  641, 597, 710,  721],\n",
    "    [881, 871,  912,  929, 878, 977,  835],\n",
    "    [676, 713, 1113,  690, 699, 700,  767],\n",
    "    [1441, 1453, 1424, 1439, 1470, 1429, 1450],\n",
    "    [664, 606,  571,  603, 603, 671,  686],\n",
    "    [467, 486,  504,  525, 481, 527,  477],\n",
    "    [1148, 1149, 1020, 1096, 1106, 1064, 1011],\n",
    "    [1077, 1090,  982,  859, 677, 577,  515],\n",
    "    [396, 354,  444,  397, 369, 465,  458],\n",
    "]) / 60\n",
    "\n",
    "num_replicas = [1, 1, 1, 1, 1, 1, 1, 1, 1, 1]\n",
    "resource_limit = 40"
   ]
  },
  {
   "cell_type": "code",
   "execution_count": null,
   "metadata": {},
   "outputs": [],
   "source": [
    "import time\n",
    "from collections import defaultdict\n",
    "\n",
    "def solve(util_type, method, mdc_percentile=0, max_rho = 0.95):\n",
    "    solver = SolverWithDrop(\n",
    "        resource_limit,\n",
    "        min_max=False,\n",
    "        adjust=False,\n",
    "        method=method,\n",
    "        mdc_percentile=mdc_percentile,\n",
    "        upscale_overhead=1,\n",
    "        max_rho=max_rho,\n",
    "        util_type=util_type \n",
    "        # drop_integrality=True,\n",
    "        # drop_weight=0.0,\n",
    "        # linear_penalty=True,\n",
    "    )\n",
    "    for i, (input_rate, num_replica) in enumerate(zip(input_rates, num_replicas)):\n",
    "        solver.add_deployment(\n",
    "            key=i,\n",
    "            processing_time=processing_time,\n",
    "            input_rate=input_rate,\n",
    "            weight=1,\n",
    "            slo_target=target_latency,\n",
    "            current_num_replicas=num_replica,\n",
    "            resource_per_replica=1,\n",
    "        )\n",
    "    t = time.perf_counter()\n",
    "    sol, value = solver.solve()\n",
    "    return (sol, time.perf_counter() - t)\n",
    "\n",
    "util_type = \"latency\"\n",
    "results = defaultdict(list)\n",
    "for i in range(10):\n",
    "    results[\"slsqp_step\"].append(solve(\"latency_step\", \"slsqp\", 99, max_rho=0.999))\n",
    "    results[\"slsqp\"].append(solve(\"latency\", \"slsqp\", 99, max_rho=0.95))\n",
    "    results[\"cobyla_step\"].append(solve(\"latency_step\", \"cobyla\", 99, max_rho=0.999))\n",
    "    results[\"cobyla\"].append(solve(\"latency\", \"cobyla\", 99, max_rho=0.95))\n",
    "    # results[\"trust-constr_step\"] = solve(\"latency_step\", \"trust-constr\", None)\n",
    "\n",
    "    results[\"de_step\"].append(solve(\"latency_step\", \"de\", 99, max_rho=0.999))\n",
    "    results[\"de\"].append(solve(\"latency\", \"de\", 99, max_rho=0.95))"
   ]
  },
  {
   "cell_type": "code",
   "execution_count": null,
   "metadata": {},
   "outputs": [],
   "source": [
    "solver = SolverWithDrop(\n",
    "    resource_limit,\n",
    "    min_max=False,\n",
    "    adjust=False,\n",
    "    method=\"cobyla\",\n",
    "    mdc_percentile=99,\n",
    "    upscale_overhead=1,\n",
    "    # drop_integrality=True,\n",
    "    # drop_weight=0.0,\n",
    "    # linear_penalty=True,\n",
    "    util_type=\"latency\",\n",
    ")\n",
    "for i, (input_rate, num_replica) in enumerate(zip(input_rates, num_replicas)):\n",
    "    solver.add_deployment(\n",
    "        i,\n",
    "        processing_time,\n",
    "        input_rate,\n",
    "        1,\n",
    "        target_latency,\n",
    "        num_replica,\n",
    "        1,\n",
    "    )\n",
    "solver.solve()"
   ]
  },
  {
   "cell_type": "code",
   "execution_count": null,
   "metadata": {},
   "outputs": [],
   "source": [
    "step_solver = SolverWithDrop(\n",
    "    resource_limit,\n",
    "    min_max=False,\n",
    "    adjust=False,\n",
    "    method=\"cobyla\",\n",
    "    mdc_percentile=99,\n",
    "    upscale_overhead=1,\n",
    "    util_type=\"latency_step\",\n",
    "    # drop_integrality=True,\n",
    "    # drop_weight=0.0,\n",
    "    # linear_penalty=True,\n",
    ")\n",
    "for i, (input_rate, num_replica) in enumerate(zip(input_rates, num_replicas)):\n",
    "    step_solver.add_deployment(\n",
    "        i,\n",
    "        processing_time,\n",
    "        input_rate,\n",
    "        1,\n",
    "        target_latency,\n",
    "        num_replica,\n",
    "        1,\n",
    "    )\n",
    "step_solver.solve()"
   ]
  },
  {
   "cell_type": "code",
   "execution_count": null,
   "metadata": {},
   "outputs": [],
   "source": [
    "parsed_results = {}\n",
    "for k, v_list in results.items():\n",
    "    sols, times = zip(*v_list)\n",
    "    objectives = []\n",
    "    for sol in sols:\n",
    "        sol = np.array(list(zip(*sol.values()))).reshape(-1)\n",
    "        if \"step\" in k:\n",
    "            objectives.append(step_solver.objective(sol))\n",
    "        else:\n",
    "            objectives.append(solver.objective(sol))\n",
    "    # print(times)\n",
    "    # print(objectives)\n",
    "    parsed_results[k] = (times, objectives)"
   ]
  },
  {
   "cell_type": "code",
   "execution_count": null,
   "metadata": {},
   "outputs": [],
   "source": [
    "import pandas as pd\n",
    "pd.to_pickle(parsed_results, \"optim_data.pkl\")"
   ]
  },
  {
   "cell_type": "code",
   "execution_count": 3,
   "metadata": {},
   "outputs": [],
   "source": [
    "import pandas as pd\n",
    "parsed_results = pd.read_pickle(\"optim_data.pkl\")"
   ]
  },
  {
   "cell_type": "code",
   "execution_count": 4,
   "metadata": {},
   "outputs": [
    {
     "data": {
      "text/plain": [
       "10"
      ]
     },
     "execution_count": 4,
     "metadata": {},
     "output_type": "execute_result"
    }
   ],
   "source": [
    "len(next(iter(parsed_results.values()))[0])"
   ]
  },
  {
   "cell_type": "code",
   "execution_count": 5,
   "metadata": {},
   "outputs": [
    {
     "name": "stderr",
     "output_type": "stream",
     "text": [
      "backend_ps.py:303 [WARNING] The PostScript backend does not support transparency; partially transparent artists will be rendered opaque.\n"
     ]
    },
    {
     "data": {
      "image/png": "[encoded data removed]",
      "text/plain": [
       "<Figure size 640x300 with 1 Axes>"
      ]
     },
     "metadata": {},
     "output_type": "display_data"
    }
   ],
   "source": [
    "import matplotlib\n",
    "import matplotlib.pyplot as plt\n",
    "matplotlib.rcParams.update({'font.size': 13})\n",
    "from adjustText import adjust_text\n",
    "\n",
    "labels = []\n",
    "xs = []\n",
    "ys = []\n",
    "\n",
    "plt.figure(figsize=(6.4, 3))\n",
    "\n",
    "for k, (times, objs) in parsed_results.items():\n",
    "    if \"step\" not in k:\n",
    "        continue\n",
    "    labels.append(k)\n",
    "    xs.append(np.max(times))\n",
    "    ys.append(-np.max(objs)/10)\n",
    "\n",
    "plt.scatter(xs, ys, label=\"Precise\")\n",
    "\n",
    "texts = []\n",
    "\n",
    "for i, label in enumerate(labels):\n",
    "    texts.append(plt.text(xs[i], ys[i], label.replace(\"_step\", \"\").upper()))\n",
    "    # plt.annotate(label, (xs[i], ys[i]))\n",
    "\n",
    "labels = []\n",
    "xs = []\n",
    "ys = []\n",
    "\n",
    "for k, (times, objs) in parsed_results.items():\n",
    "    if \"step\" in k:\n",
    "        continue\n",
    "    # if k == \"slsqp\":\n",
    "    #     continue\n",
    "    if k == \"cobyla\":\n",
    "        continue\n",
    "    labels.append(k)\n",
    "    xs.append(np.max(times))\n",
    "    ys.append(-np.max(objs)/10)\n",
    "\n",
    "plt.scatter(xs, ys, label=\"Relaxed\")\n",
    "plt.xlabel(\"Time (s)\")\n",
    "plt.ylabel(\"Normalized optimality\")\n",
    "plt.legend(loc='lower right')\n",
    "\n",
    "for i, label in enumerate(labels):\n",
    "    if label in [\"cobyla\", \"slsqp\"]:\n",
    "        label = \"COBYLA/SLSQP\"\n",
    "    texts.append(plt.text(xs[i], ys[i], label.replace(\"_step\", \"\").upper()))\n",
    "\n",
    "bbox_props = dict(boxstyle=\"larrow\", fc=\"lightgrey\", ec=None, alpha=1, lw=1)\n",
    "t = plt.text(10, 0.7, \"Better\", ha=\"center\", va=\"center\", rotation=-35,\n",
    "            size=15,\n",
    "            bbox=bbox_props)\n",
    "\n",
    "adjust_text(texts)\n",
    "plt.savefig(\"images/optim_time_quality.eps\", bbox_inches='tight')"
   ]
  }
 ],
 "metadata": {
  "kernelspec": {
   "display_name": "k8s-ray",
   "language": "python",
   "name": "python3"
  },
  "language_info": {
   "codemirror_mode": {
    "name": "ipython",
    "version": 3
   },
   "file_extension": ".py",
   "mimetype": "text/x-python",
   "name": "python",
   "nbconvert_exporter": "python",
   "pygments_lexer": "ipython3",
   "version": "3.8.13"
  },
  "orig_nbformat": 4
 },
 "nbformat": 4,
 "nbformat_minor": 2
}
